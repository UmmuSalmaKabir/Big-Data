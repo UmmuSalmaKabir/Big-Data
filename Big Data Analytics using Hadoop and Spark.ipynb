{
 "cells": [
  {
   "cell_type": "code",
   "execution_count": 1,
   "id": "03972ffc-c5a7-48f3-9541-c2351b596337",
   "metadata": {},
   "outputs": [
    {
     "name": "stderr",
     "output_type": "stream",
     "text": [
      "23/12/25 22:39:27 WARN SparkSession: Using an existing Spark session; only runtime SQL configurations will take effect.\n"
     ]
    }
   ],
   "source": [
    "import pandas as pd\n",
    "import numpy as np\n",
    "import matplotlib.pyplot as plt\n",
    "import seaborn as sns\n",
    "from pyspark.sql import SparkSession\n",
    "from pyspark.sql.types import *\n",
    "from pyspark.sql.functions import *\n",
    "from pyspark.ml.feature import VectorAssembler, StringIndexer\n",
    "from pyspark.ml.classification import RandomForestClassifier, DecisionTreeClassifier, NaiveBayes\n",
    "from pyspark.ml.evaluation import BinaryClassificationEvaluator, MulticlassClassificationEvaluator\n",
    "from sklearn.metrics import confusion_matrix, roc_curve, auc\n",
    "from pyspark.ml.stat import Correlation\n",
    "\n",
    "# Initialize SparkSession\n",
    "spark = SparkSession.builder \\\n",
    "    .master(\"local[*]\") \\\n",
    "    .appName(\"UNSW_NB15_Analysis\") \\\n",
    "    .config(\"spark.sql.debug.maxToStringFields\", 1000) \\\n",
    "    .getOrCreate()\n",
    "\n",
    "# Creating the Schema based on the given csv file\n",
    "schema = StructType([\n",
    "      StructField(\"srcip\",StringType(),True),\n",
    "      StructField(\"sport\",IntegerType(),True),\n",
    "      StructField(\"dstip\",StringType(),True),\n",
    "      StructField(\"dsport\",IntegerType(),True),\n",
    "      StructField(\"proto\",StringType(),True),\n",
    "      StructField(\"State\",StringType(),True),\n",
    "      StructField(\"dur\",FloatType(),True),\n",
    "      StructField(\"sbytes\",IntegerType(),True),\n",
    "      StructField(\"dbytes\",IntegerType(),True),\n",
    "      StructField(\"sttl\",IntegerType(),True),\n",
    "      StructField(\"dttl\",IntegerType(),True),\n",
    "      StructField(\"sloss\",FloatType(),True),\n",
    "      StructField(\"dloss\",FloatType(),True),\n",
    "      StructField(\"service\",StringType(),True),\n",
    "      StructField(\"sload\",FloatType(),True),\n",
    "      StructField(\"dload\",FloatType(),True),\n",
    "      StructField(\"spkts\",IntegerType(),True),\n",
    "      StructField(\"dpkts\",IntegerType(),True),\n",
    "      StructField(\"swin\",IntegerType(),True),\n",
    "      StructField(\"dwin\",IntegerType(),True),\n",
    "      StructField(\"stcpb\",IntegerType(),True),\n",
    "      StructField(\"dtcpb\",IntegerType(),True),\n",
    "      StructField(\"smeansz\",IntegerType(),True),\n",
    "      StructField(\"dmeansz\",IntegerType(),True),\n",
    "      StructField(\"trans_depth\",IntegerType(),True),\n",
    "      StructField(\"res_bdy_len\",IntegerType(),True),\n",
    "      StructField(\"sjit\",FloatType(),True),\n",
    "      StructField(\"djit\",FloatType(),True),\n",
    "      StructField(\"stime\",StringType(),True),\n",
    "      StructField(\"ltime\",StringType(),True),\n",
    "      StructField(\"sintpkt\",FloatType(),True),\n",
    "      StructField(\"dintpkt\",FloatType(),True),\n",
    "      StructField(\"tcprtt\",FloatType(),True),\n",
    "      StructField(\"synack\",FloatType(),True),\n",
    "      StructField(\"ackdat\",FloatType(),True),\n",
    "      StructField(\"is_sm_ips_ports\",IntegerType(),True),\n",
    "      StructField(\"ct_state_ttl\",IntegerType(),True),\n",
    "      StructField(\"ct_flw_http_mthd\",IntegerType(),True),\n",
    "      StructField(\"is_ftp_login\",IntegerType(),True),\n",
    "      StructField(\"ct_ftp_cmd\",IntegerType(),True),\n",
    "      StructField(\"ct_srv_src\",IntegerType(),True),\n",
    "      StructField(\"ct_srv_dst\",IntegerType(),True),\n",
    "      StructField(\"ct_dst_ltm\",IntegerType(),True),\n",
    "      StructField(\"ct_src_ltm\",IntegerType(),True),\n",
    "      StructField(\"ct_src_dport_ltm\",IntegerType(),True),\n",
    "      StructField(\"ct_dst_sport_ltm\",IntegerType(),True),\n",
    "      StructField(\"ct_dst_src_ltm\",IntegerType(),True),\n",
    "      StructField(\"attack_cat\",StringType(),True),\n",
    "      StructField(\"label\",IntegerType(),True)])\n",
    "\n",
    "# Load Data\n",
    "df = spark.read.csv('/Users/Salma/UNSW-NB15.csv', schema=schema, header=False)"
   ]
  },
  {
   "cell_type": "code",
   "execution_count": 2,
   "id": "dac5ee79-5576-4042-b620-86b86d1369ba",
   "metadata": {},
   "outputs": [
    {
     "name": "stderr",
     "output_type": "stream",
     "text": [
      "                                                                                \r"
     ]
    },
    {
     "name": "stdout",
     "output_type": "stream",
     "text": [
      "+----------+-----+-------------+------+-----+-----+--------+------+------+----+----+-----+-----+-------+---------+---------+-----+-----+----+----+---------+----------+-------+-------+-----------+-----------+---------+---------+----------+----------+---------+--------+-------+-------+-------+---------------+------------+----------------+------------+----------+----------+----------+----------+----------+----------------+----------------+--------------+----------+-----+\n",
      "|     srcip|sport|        dstip|dsport|proto|State|     dur|sbytes|dbytes|sttl|dttl|sloss|dloss|service|    sload|    dload|spkts|dpkts|swin|dwin|    stcpb|     dtcpb|smeansz|dmeansz|trans_depth|res_bdy_len|     sjit|     djit|     stime|     ltime|  sintpkt| dintpkt| tcprtt| synack| ackdat|is_sm_ips_ports|ct_state_ttl|ct_flw_http_mthd|is_ftp_login|ct_ftp_cmd|ct_srv_src|ct_srv_dst|ct_dst_ltm|ct_src_ltm|ct_src_dport_ltm|ct_dst_sport_ltm|ct_dst_src_ltm|attack_cat|label|\n",
      "+----------+-----+-------------+------+-----+-----+--------+------+------+----+----+-----+-----+-------+---------+---------+-----+-----+----+----+---------+----------+-------+-------+-----------+-----------+---------+---------+----------+----------+---------+--------+-------+-------+-------+---------------+------------+----------------+------------+----------+----------+----------+----------+----------+----------------+----------------+--------------+----------+-----+\n",
      "|59.166.0.3|56716|149.171.126.8|   143|  tcp|  FIN| 0.82546|  7812| 16236|  31|  29| 30.0| 32.0|      -| 75090.25|156111.73|  122|  126| 255| 255|     NULL|      NULL|     64|    129|          0|          0|445.25928| 474.9451|1421970774|1421970775| 6.819091|6.599896|5.97E-4|4.69E-4|1.28E-4|              0|           0|               0|           0|         0|         2|         7|         1|         4|               1|               1|             1|      NULL|    0|\n",
      "|59.166.0.0|43467|149.171.126.6| 49729|  tcp|  FIN|0.101815|  4238| 65628|  31|  29|  7.0| 30.0|      -|328438.84|5087030.5|   72|   74| 255| 255|961515433|      NULL|     59|    887|          0|          0|      0.0| 91.57957|1421970775|1421970775| 1.429493|1.387192| 6.8E-4|5.46E-4|1.34E-4|              0|           0|               0|           0|         0|         7|         4|         1|         6|               1|               1|             1|      NULL|    0|\n",
      "|59.166.0.5|41289|149.171.126.2|  9574|  tcp|  FIN|0.044003|  2750| 29104|  31|  29|  7.0| 17.0|      -|488693.97|5181101.5|   44|   48| 255| 255|     NULL|1191410228|     63|    606|          0|          0| 78.12697|62.206562|1421970775|1421970775| 1.014977| 0.92583|0.00125|4.85E-4|7.65E-4|              0|           0|               0|           0|         0|         3|         5|         3|         3|               1|               1|             1|      NULL|    0|\n",
      "|59.166.0.9|43785|149.171.126.0|  6881|  tcp|  FIN| 2.79083| 10476|395734|  31|  29| 16.0|143.0|      -|29863.518|1130840.8|  180|  320| 255| 255|     NULL|      NULL|     58|   1237|          0|          0|2707.4927| 2018.976|1421970772|1421970775|15.589459|8.747012|6.84E-4|5.32E-4|1.52E-4|              0|           0|               0|           0|         0|        11|         4|         3|         2|               1|               1|             1|      NULL|    0|\n",
      "|59.166.0.8|40691|149.171.126.9|  6881|  tcp|  FIN|  2.6335| 13350|548216|  31|  29| 21.0|197.0|      -| 40381.24|1661560.6|  232|  438| 255| 255|  1518931|  18267719|     58|   1252|          0|          0| 718.3368|500.57288|1421970773|1421970775|11.399026|6.025183|6.19E-4|4.89E-4| 1.3E-4|              0|           0|               0|           0|         0|        16|         7|         7|         1|               1|               1|             1|      NULL|    0|\n",
      "+----------+-----+-------------+------+-----+-----+--------+------+------+----+----+-----+-----+-------+---------+---------+-----+-----+----+----+---------+----------+-------+-------+-----------+-----------+---------+---------+----------+----------+---------+--------+-------+-------+-------+---------------+------------+----------------+------------+----------+----------+----------+----------+----------+----------------+----------------+--------------+----------+-----+\n",
      "only showing top 5 rows\n",
      "\n"
     ]
    },
    {
     "name": "stderr",
     "output_type": "stream",
     "text": [
      "[Stage 3:>                                                          (0 + 1) / 1]\r"
     ]
    },
    {
     "name": "stdout",
     "output_type": "stream",
     "text": [
      "+-------+-----------+------------------+-----------+------------------+-------+-------+------------------+-----------------+------------------+-----------------+-----------------+------------------+------------------+-------+--------------------+------------------+----------------+------------------+------------------+------------------+-------------------+-------------------+------------------+------------------+-------------------+-----------------+-----------------+------------------+--------------------+--------------------+------------------+-----------------+--------------------+--------------------+--------------------+--------------------+-------------------+-------------------+-------------------+--------------------+------------------+------------------+-----------------+-----------------+-----------------+-----------------+-----------------+----------+-------------------+\n",
      "|summary|      srcip|             sport|      dstip|            dsport|  proto|  State|               dur|           sbytes|            dbytes|             sttl|             dttl|             sloss|             dloss|service|               sload|             dload|           spkts|             dpkts|              swin|              dwin|              stcpb|              dtcpb|           smeansz|           dmeansz|        trans_depth|      res_bdy_len|             sjit|              djit|               stime|               ltime|           sintpkt|          dintpkt|              tcprtt|              synack|              ackdat|     is_sm_ips_ports|       ct_state_ttl|   ct_flw_http_mthd|       is_ftp_login|          ct_ftp_cmd|        ct_srv_src|        ct_srv_dst|       ct_dst_ltm|       ct_src_ltm| ct_src_dport_ltm| ct_dst_sport_ltm|   ct_dst_src_ltm|attack_cat|              label|\n",
      "+-------+-----------+------------------+-----------+------------------+-------+-------+------------------+-----------------+------------------+-----------------+-----------------+------------------+------------------+-------+--------------------+------------------+----------------+------------------+------------------+------------------+-------------------+-------------------+------------------+------------------+-------------------+-----------------+-----------------+------------------+--------------------+--------------------+------------------+-----------------+--------------------+--------------------+--------------------+--------------------+-------------------+-------------------+-------------------+--------------------+------------------+------------------+-----------------+-----------------+-----------------+-----------------+-----------------+----------+-------------------+\n",
      "|  count|    2539739|           2539739|    2539739|           2539739|2539739|2539739|           2539739|          2539739|           2539739|          2539739|          2539739|           2539739|           2539739|2539739|             2539739|           2539739|         2539739|           2539739|           2539739|           2539739|            1793941|            1793313|           2539739|           2539739|            2539739|          2539739|          2539739|           2539739|             2539739|             2539739|           2539739|          2539739|             2539739|             2539739|             2539739|             2539739|            2539739|            2539739|            2539739|             2539739|           2539739|           2539739|          2539739|          2539739|          2539739|          2539739|          2539739|    321283|            2539739|\n",
      "|   mean|       NULL| 30536.93108583205|       NULL|11235.096788685767|   NULL|   NULL|0.6588634003998185|4340.072263330996| 36432.01132478574|62.78149802007214|  30.770440978384| 5.164547223159545|16.331423819534212|   NULL| 3.694927929101887E7|2451158.4380010017|33.2925678583508|42.731821655689814|150.10695075360107|149.76404347060858|4.466515304248462E8|4.460521901362088E8|124.25270588828222|276.70543193611627|0.08326328020320198|4242.632264575218|1589.154363333557| 730.1640026403976|1.4232606949103932E9|1.4232606956744623E9|193.04655045994068|78.83432355307932|0.006181224254389873|0.003287993859012262|0.002893230395798647|0.001651744529654425|0.26118471228736495|0.11009123378425893|0.01735335796316078|0.020560380417042855| 9.207911915358231| 8.989882818667587|6.439727074317479|6.901640286659378|4.642571933572702|3.593031803661715| 6.84655746121944|      NULL| 0.1265023689442104|\n",
      "| stddev|       NULL|20441.216792342268|       NULL|18438.200835771535|   NULL|   NULL| 13.92576763644129|56409.39812286242|161105.30400824687|74.62669956848525|42.85192218951871|22.518368387797135| 56.59789035320468|   NULL|1.1860413778897673E8| 4225032.897361636|76.2877558567827|121.50842004704236|125.47913122211055|125.54062192608471|6.633339410932615E8|6.630132162485625E8| 151.9210877228345| 335.6231650135918| 0.3500245567477096|47503.38315316813|16911.37755064056|3438.7574670471777|   1134456.463679281|  1134456.2648330522| 2778.583002467415|1433.278070941689| 0.04616138284070782| 0.02593724546074148|0.023948109206600968|0.040608089328964335| 0.6831310323762803|  0.556451880502101| 0.1334651041761793| 0.18437304311644626|10.837080948771026|10.822813466163344|8.162329925209134|8.205340175616502|8.478001123292255| 6.17475763688336|11.25879778632452|      NULL|0.33241474561750306|\n",
      "|    min|10.40.170.2|                 0|10.40.170.2|                 0|    3pc|    ACC|               0.0|                0|                 0|                0|                0|               0.0|               0.0|      -|                 0.0|               0.0|               0|                 0|                 0|                 0|                  0|                  0|                 0|                 0|                  0|                0|              0.0|               0.0|          1421927377|          1421927414|               0.0|              0.0|                 0.0|                 0.0|                 0.0|                   0|                  0|                  0|                  0|                   0|                 1|                 1|                1|                1|                1|                1|                1|  Analysis|                  0|\n",
      "|    max| 59.166.0.9|             65535| 59.166.0.9|             65535|   zero|     no|          8786.638|         14355774|          14657531|              255|              254|            5319.0|            5507.0|    ssl|         5.9880003E9|      1.28761904E8|           10646|             11018|               255|               255|         2147483118|         2147479768|              1504|              1500|                172|          6558056|        1483830.9|          781221.1|          1424262068|          1424262069|          84371.49|         59485.32|           10.037506|            4.525272|            5.512234|                   1|                  6|                 36|                  4|                   8|                67|                67|               67|               67|               67|               60|               67|     Worms|                  1|\n",
      "+-------+-----------+------------------+-----------+------------------+-------+-------+------------------+-----------------+------------------+-----------------+-----------------+------------------+------------------+-------+--------------------+------------------+----------------+------------------+------------------+------------------+-------------------+-------------------+------------------+------------------+-------------------+-----------------+-----------------+------------------+--------------------+--------------------+------------------+-----------------+--------------------+--------------------+--------------------+--------------------+-------------------+-------------------+-------------------+--------------------+------------------+------------------+-----------------+-----------------+-----------------+-----------------+-----------------+----------+-------------------+\n",
      "\n"
     ]
    },
    {
     "name": "stderr",
     "output_type": "stream",
     "text": [
      "                                                                                \r"
     ]
    }
   ],
   "source": [
    "# Show the first few records\n",
    "df.show(5)\n",
    "\n",
    "# Summary statistics\n",
    "df.describe().show()"
   ]
  },
  {
   "cell_type": "code",
   "execution_count": 3,
   "id": "3feb6575-48f1-41a1-b2c6-2f79fe63dded",
   "metadata": {},
   "outputs": [
    {
     "name": "stderr",
     "output_type": "stream",
     "text": [
      "                                                                                \r"
     ]
    },
    {
     "name": "stdout",
     "output_type": "stream",
     "text": [
      "+-----+-----+-----+------+-----+-----+---+------+------+----+----+-----+-----+-------+-----+-----+-----+-----+----+----+-----+-----+-------+-------+-----------+-----------+----+----+-----+-----+-------+-------+------+------+------+---------------+------------+----------------+------------+----------+----------+----------+----------+----------+----------------+----------------+--------------+----------+-----+\n",
      "|srcip|sport|dstip|dsport|proto|State|dur|sbytes|dbytes|sttl|dttl|sloss|dloss|service|sload|dload|spkts|dpkts|swin|dwin|stcpb|dtcpb|smeansz|dmeansz|trans_depth|res_bdy_len|sjit|djit|stime|ltime|sintpkt|dintpkt|tcprtt|synack|ackdat|is_sm_ips_ports|ct_state_ttl|ct_flw_http_mthd|is_ftp_login|ct_ftp_cmd|ct_srv_src|ct_srv_dst|ct_dst_ltm|ct_src_ltm|ct_src_dport_ltm|ct_dst_sport_ltm|ct_dst_src_ltm|attack_cat|label|\n",
      "+-----+-----+-----+------+-----+-----+---+------+------+----+----+-----+-----+-------+-----+-----+-----+-----+----+----+-----+-----+-------+-------+-----------+-----------+----+----+-----+-----+-------+-------+------+------+------+---------------+------------+----------------+------------+----------+----------+----------+----------+----------+----------------+----------------+--------------+----------+-----+\n",
      "|    0|    0|    0|     0|    0|    0|  0|     0|     0|   0|   0|    0|    0|      0|    0|    0|    0|    0|   0|   0|    0|    0|      0|      0|          0|          0|   0|   0|    0|    0|      0|      0|     0|     0|     0|              0|           0|               0|           0|         0|         0|         0|         0|         0|               0|               0|             0|         0|    0|\n",
      "+-----+-----+-----+------+-----+-----+---+------+------+----+----+-----+-----+-------+-----+-----+-----+-----+----+----+-----+-----+-------+-------+-----------+-----------+----+----+-----+-----+-------+-------+------+------+------+---------------+------------+----------------+------------+----------+----------+----------+----------+----------+----------------+----------------+--------------+----------+-----+\n",
      "\n"
     ]
    },
    {
     "name": "stderr",
     "output_type": "stream",
     "text": [
      "                                                                                \r"
     ]
    },
    {
     "name": "stdout",
     "output_type": "stream",
     "text": [
      "+-----+-----+-----+------+-----+-----+---+------+------+----+----+-----+-----+-------+-----+-----+-----+-----+----+----+-----+-----+-------+-------+-----------+-----------+----+----+-----+-----+-------+-------+------+------+------+---------------+------------+----------------+------------+----------+----------+----------+----------+----------+----------------+----------------+--------------+----------+-----+\n",
      "|srcip|sport|dstip|dsport|proto|State|dur|sbytes|dbytes|sttl|dttl|sloss|dloss|service|sload|dload|spkts|dpkts|swin|dwin|stcpb|dtcpb|smeansz|dmeansz|trans_depth|res_bdy_len|sjit|djit|stime|ltime|sintpkt|dintpkt|tcprtt|synack|ackdat|is_sm_ips_ports|ct_state_ttl|ct_flw_http_mthd|is_ftp_login|ct_ftp_cmd|ct_srv_src|ct_srv_dst|ct_dst_ltm|ct_src_ltm|ct_src_dport_ltm|ct_dst_sport_ltm|ct_dst_src_ltm|attack_cat|label|\n",
      "+-----+-----+-----+------+-----+-----+---+------+------+----+----+-----+-----+-------+-----+-----+-----+-----+----+----+-----+-----+-------+-------+-----------+-----------+----+----+-----+-----+-------+-------+------+------+------+---------------+------------+----------------+------------+----------+----------+----------+----------+----------+----------------+----------------+--------------+----------+-----+\n",
      "|    0|    0|    0|     0|    0|    0|  0|     0|     0|   0|   0|    0|    0|      0|    0|    0|    0|    0|   0|   0|    0|    0|      0|      0|          0|          0|   0|   0|    0|    0|      0|      0|     0|     0|     0|              0|           0|               0|           0|         0|         0|         0|         0|         0|               0|               0|             0|         0|    0|\n",
      "+-----+-----+-----+------+-----+-----+---+------+------+----+----+-----+-----+-------+-----+-----+-----+-----+----+----+-----+-----+-------+-------+-----------+-----------+----+----+-----+-----+-------+-------+------+------+------+---------------+------------+----------------+------------+----------+----------+----------+----------+----------+----------------+----------------+--------------+----------+-----+\n",
      "\n"
     ]
    },
    {
     "name": "stderr",
     "output_type": "stream",
     "text": [
      "                                                                                \r"
     ]
    },
    {
     "name": "stdout",
     "output_type": "stream",
     "text": [
      "+-----+-----+-----+------+-----+-----+---+------+------+----+----+-----+-----+-------+-----+-----+-----+-----+----+----+-----+-----+-------+-------+-----------+-----------+----+----+-----+-----+-------+-------+------+------+------+---------------+------------+----------------+------------+----------+----------+----------+----------+----------+----------------+----------------+--------------+----------+-----+\n",
      "|srcip|sport|dstip|dsport|proto|State|dur|sbytes|dbytes|sttl|dttl|sloss|dloss|service|sload|dload|spkts|dpkts|swin|dwin|stcpb|dtcpb|smeansz|dmeansz|trans_depth|res_bdy_len|sjit|djit|stime|ltime|sintpkt|dintpkt|tcprtt|synack|ackdat|is_sm_ips_ports|ct_state_ttl|ct_flw_http_mthd|is_ftp_login|ct_ftp_cmd|ct_srv_src|ct_srv_dst|ct_dst_ltm|ct_src_ltm|ct_src_dport_ltm|ct_dst_sport_ltm|ct_dst_src_ltm|attack_cat|label|\n",
      "+-----+-----+-----+------+-----+-----+---+------+------+----+----+-----+-----+-------+-----+-----+-----+-----+----+----+-----+-----+-------+-------+-----------+-----------+----+----+-----+-----+-------+-------+------+------+------+---------------+------------+----------------+------------+----------+----------+----------+----------+----------+----------------+----------------+--------------+----------+-----+\n",
      "|    0|    0|    0|     0|    0|    0|  0|     0|     0|   0|   0|    0|    0|1246089|    0|    0|    0|    0|   0|   0|    0|    0|      0|      0|          0|          0|   0|   0|    0|    0|      0|      0|     0|     0|     0|              0|           0|               0|           0|         0|         0|         0|         0|         0|               0|               0|             0|         0|    0|\n",
      "+-----+-----+-----+------+-----+-----+---+------+------+----+----+-----+-----+-------+-----+-----+-----+-----+----+----+-----+-----+-------+-------+-----------+-----------+----+----+-----+-----+-------+-------+------+------+------+---------------+------------+----------------+------------+----------+----------+----------+----------+----------+----------------+----------------+--------------+----------+-----+\n",
      "\n"
     ]
    },
    {
     "name": "stderr",
     "output_type": "stream",
     "text": [
      "[Stage 13:>                                                         (0 + 8) / 8]\r"
     ]
    },
    {
     "name": "stdout",
     "output_type": "stream",
     "text": [
      "+-----+-----+-----+------+-----+-----+---+------+------+----+----+-----+-----+-------+-----+-----+-----+-----+----+----+-----+-----+-------+-------+-----------+-----------+----+----+-----+-----+-------+-------+------+------+------+---------------+------------+----------------+------------+----------+----------+----------+----------+----------+----------------+----------------+--------------+----------+-----+\n",
      "|srcip|sport|dstip|dsport|proto|State|dur|sbytes|dbytes|sttl|dttl|sloss|dloss|service|sload|dload|spkts|dpkts|swin|dwin|stcpb|dtcpb|smeansz|dmeansz|trans_depth|res_bdy_len|sjit|djit|stime|ltime|sintpkt|dintpkt|tcprtt|synack|ackdat|is_sm_ips_ports|ct_state_ttl|ct_flw_http_mthd|is_ftp_login|ct_ftp_cmd|ct_srv_src|ct_srv_dst|ct_dst_ltm|ct_src_ltm|ct_src_dport_ltm|ct_dst_sport_ltm|ct_dst_src_ltm|attack_cat|label|\n",
      "+-----+-----+-----+------+-----+-----+---+------+------+----+----+-----+-----+-------+-----+-----+-----+-----+----+----+-----+-----+-------+-------+-----------+-----------+----+----+-----+-----+-------+-------+------+------+------+---------------+------------+----------------+------------+----------+----------+----------+----------+----------+----------------+----------------+--------------+----------+-----+\n",
      "|    0|    0|    0|     0|    0|    0|  0|     0|     0|   0|   0|    0|    0|      0|    0|    0|    0|    0|   0|   0|    0|    0|      0|      0|          0|          0|   0|   0|    0|    0|      0|      0|     0|     0|     0|              0|           0|               0|           0|         0|         0|         0|         0|         0|               0|               0|             0|         0|    0|\n",
      "+-----+-----+-----+------+-----+-----+---+------+------+----+----+-----+-----+-------+-----+-----+-----+-----+----+----+-----+-----+-------+-------+-----------+-----------+----+----+-----+-----+-------+-------+------+------+------+---------------+------------+----------------+------------+----------+----------+----------+----------+----------+----------------+----------------+--------------+----------+-----+\n",
      "\n"
     ]
    },
    {
     "name": "stderr",
     "output_type": "stream",
     "text": [
      "                                                                                \r"
     ]
    }
   ],
   "source": [
    "# Count 'None', 'NULL', '-' and NaN values in each column\n",
    "for value in ['None', 'NULL', '-', None]:\n",
    "    counts = df.select([count(when(col(c) == value, c)).alias(c) for c in df.columns])\n",
    "    counts.show()"
   ]
  },
  {
   "cell_type": "code",
   "execution_count": 4,
   "id": "d4355f37-81d9-4ba9-8b66-62a1a13781a5",
   "metadata": {},
   "outputs": [],
   "source": [
    "# Data cleaning\n",
    "df = df.na.fill(0)\n",
    "df = df.na.replace(['None', 'NULL', '-'], [None, None, None])\n",
    "df = df.withColumn('attack_cat', trim(col(\"attack_cat\")))"
   ]
  },
  {
   "cell_type": "code",
   "execution_count": 5,
   "id": "6d37ec66-1d53-4cb4-8599-a26e4ff5ad3c",
   "metadata": {},
   "outputs": [],
   "source": [
    "# Fill missing values in 'attack_cat' with 'Normal'\n",
    "df = df.fillna({'attack_cat':'Normal'})"
   ]
  },
  {
   "cell_type": "code",
   "execution_count": 6,
   "id": "f4752eba-27a8-46a8-90e5-5005aa9423f9",
   "metadata": {},
   "outputs": [
    {
     "name": "stderr",
     "output_type": "stream",
     "text": [
      "                                                                                \r"
     ]
    },
    {
     "name": "stdout",
     "output_type": "stream",
     "text": [
      "+-------+----------+\n",
      "|summary|attack_cat|\n",
      "+-------+----------+\n",
      "|  count|   2539739|\n",
      "|   mean|      NULL|\n",
      "| stddev|      NULL|\n",
      "|    min|  Analysis|\n",
      "|    max|     Worms|\n",
      "+-------+----------+\n",
      "\n"
     ]
    },
    {
     "name": "stderr",
     "output_type": "stream",
     "text": [
      "[Stage 19:>                                                         (0 + 8) / 8]\r"
     ]
    },
    {
     "name": "stdout",
     "output_type": "stream",
     "text": [
      "Distinct Attack Categories: [Row(attack_cat='Worms'), Row(attack_cat='Shellcode'), Row(attack_cat='Fuzzers'), Row(attack_cat='Analysis'), Row(attack_cat='DoS'), Row(attack_cat='Reconnaissance'), Row(attack_cat='Backdoor'), Row(attack_cat='Exploits'), Row(attack_cat='Normal'), Row(attack_cat='Generic'), Row(attack_cat='Backdoors')]\n"
     ]
    },
    {
     "name": "stderr",
     "output_type": "stream",
     "text": [
      "                                                                                \r"
     ]
    }
   ],
   "source": [
    "# Exploratory Data Analysis\n",
    "df.select(\"attack_cat\").describe().show()\n",
    "\n",
    "distinct_attack_categories = df.select('attack_cat').distinct().collect()\n",
    "print(\"Distinct Attack Categories:\", distinct_attack_categories)"
   ]
  },
  {
   "cell_type": "code",
   "execution_count": 7,
   "id": "4aa14248-0e81-4254-860b-4b0ca1dcfddd",
   "metadata": {},
   "outputs": [],
   "source": [
    "# Fill missing values in 'attack_cat' with 'Normal'\n",
    "df = df.fillna({'attack_cat':'Normal'})"
   ]
  },
  {
   "cell_type": "code",
   "execution_count": 8,
   "id": "713f4a7d-c0aa-4ce6-a7ec-7490039ec2f0",
   "metadata": {},
   "outputs": [
    {
     "name": "stderr",
     "output_type": "stream",
     "text": [
      "[Stage 22:=======>                                                  (1 + 7) / 8]\r"
     ]
    },
    {
     "name": "stdout",
     "output_type": "stream",
     "text": [
      "+--------------+-------+\n",
      "|    attack_cat|  count|\n",
      "+--------------+-------+\n",
      "|        Normal|2218456|\n",
      "|       Generic| 215481|\n",
      "|      Exploits|  44525|\n",
      "|       Fuzzers|  24246|\n",
      "|           DoS|  16353|\n",
      "|Reconnaissance|  13987|\n",
      "|      Analysis|   2677|\n",
      "|      Backdoor|   1795|\n",
      "|     Shellcode|   1511|\n",
      "|     Backdoors|    534|\n",
      "|         Worms|    174|\n",
      "+--------------+-------+\n",
      "\n"
     ]
    },
    {
     "name": "stderr",
     "output_type": "stream",
     "text": [
      "                                                                                \r"
     ]
    }
   ],
   "source": [
    "# Count of each attack category\n",
    "df.groupBy('attack_cat').count().orderBy('count', ascending=False).show()"
   ]
  },
  {
   "cell_type": "code",
   "execution_count": null,
   "id": "8bc66b0d-f569-489e-a76c-c439ffc3ca5e",
   "metadata": {},
   "outputs": [
    {
     "name": "stderr",
     "output_type": "stream",
     "text": [
      "[Stage 25:>                                                         (0 + 8) / 8]\r"
     ]
    }
   ],
   "source": [
    "# Plotting function improved for reusability\n",
    "def plot_pie_chart(data, title, column):\n",
    "    counts = data.groupBy(column).count().collect()\n",
    "    labels, values = zip(*[(row[column], row['count']) for row in counts])\n",
    "    plt.figure(figsize=(10, 6))\n",
    "    plt.pie(values, labels=labels, autopct='%1.2f%%')\n",
    "    plt.title(title)\n",
    "    plt.show()\n",
    "\n",
    "plot_pie_chart(df, \"Attack Type Distribution\", \"attack_cat\")\n"
   ]
  },
  {
   "cell_type": "code",
   "execution_count": null,
   "id": "dd7e499e-aea3-4a9e-a3a7-d8062be960c6",
   "metadata": {},
   "outputs": [],
   "source": [
    "def plot_pie_chart(data, title):\n",
    "    labels, counts = zip(*[(row['Label'], row['count']) for row in data.collect()])\n",
    "    plt.figure(figsize=(7, 7))\n",
    "    plt.pie(counts, labels=labels, autopct='%1.2f%%')\n",
    "    plt.title(title)\n",
    "    plt.show()\n",
    "    \n",
    "plot_pie_chart(df.groupBy(\"Label\").count(), 'Label Count Distribution')"
   ]
  },
  {
   "cell_type": "code",
   "execution_count": null,
   "id": "c8c7dceb-8ce8-4b38-867f-3de2c0d33725",
   "metadata": {},
   "outputs": [],
   "source": [
    "from scipy.stats import ttest_ind\n",
    "import seaborn as sns\n",
    "import matplotlib.pyplot as plt\n",
    "import pandas as pd\n",
    "\n",
    "# Assuming df is your PySpark DataFrame\n",
    "pandas_df = df.select(\"sbytes\", \"dbytes\").toPandas()\n",
    "\n",
    "# T-test\n",
    "t_stat, p_value = ttest_ind(pandas_df[\"sbytes\"], pandas_df[\"dbytes\"])\n",
    "print(\"T-test p-value:\", p_value)\n",
    "\n",
    "# Kernel Density Estimation\n",
    "sns.kdeplot(pandas_df[\"sbytes\"])\n",
    "plt.title(\"Kernel Density Estimation for sbytes\")\n",
    "plt.xlabel(\"sbytes values\")\n",
    "plt.ylabel(\"Density\")\n",
    "plt.show()"
   ]
  },
  {
   "cell_type": "code",
   "execution_count": null,
   "id": "2c57ded3-8446-44ea-9e7f-507d7749c569",
   "metadata": {},
   "outputs": [],
   "source": [
    "# Correlation Analysis"
   ]
  },
  {
   "cell_type": "code",
   "execution_count": null,
   "id": "e5f42d09-0055-4b69-9662-88604c30e954",
   "metadata": {},
   "outputs": [],
   "source": [
    "from pyspark.ml.stat import Correlation\n",
    "from pyspark.ml.feature import VectorAssembler\n",
    "import seaborn as sns\n",
    "import matplotlib.pyplot as plt\n",
    "\n",
    "# List of column names for correlation analysis\n",
    "correlation_columns = [\"sport\", \"dsport\", \"dur\", \"sbytes\", \"dbytes\", \"sttl\", \"dttl\", \"sloss\", \"dloss\",\n",
    "        \"sload\", \"dload\", \"spkts\", \"dpkts\", \"swin\", \"dwin\", \"stcpb\", \"dtcpb\", \"smeansz\", \n",
    "        \"dmeansz\", \"trans_depth\", \"res_bdy_len\", \"sjit\", \"djit\", \"sintpkt\", \"dintpkt\",\n",
    "        \"tcprtt\", \"synack\", \"ackdat\", \"is_sm_ips_ports\", \"ct_state_ttl\", \"ct_flw_http_mthd\",\n",
    "        \"is_ftp_login\", \"ct_ftp_cmd\", \"ct_srv_src\", \"ct_srv_dst\", \"ct_dst_ltm\", \"ct_src_ltm\",\n",
    "        \"ct_src_dport_ltm\", \"ct_dst_sport_ltm\", \"ct_dst_src_ltm\", \"label\"]\n",
    "\n",
    "# Assembling features for correlation analysis\n",
    "assembler = VectorAssembler(inputCols=correlation_columns, outputCol=\"corr_features\")\n",
    "df_vector = assembler.transform(df).select(\"corr_features\")"
   ]
  },
  {
   "cell_type": "code",
   "execution_count": null,
   "id": "2791d80f-c6f2-462e-86f4-e569ad0a608b",
   "metadata": {},
   "outputs": [],
   "source": [
    "# Calculating the correlation matrix\n",
    "correlation_matrix = Correlation.corr(df_vector, \"corr_features\").collect()[0][0].toArray()"
   ]
  },
  {
   "cell_type": "code",
   "execution_count": null,
   "id": "795ed972-ddc9-401d-802b-d0c41d793946",
   "metadata": {},
   "outputs": [],
   "source": [
    "# Plotting heatmap of correlation matrix\n",
    "plt.figure(figsize=(30, 30))\n",
    "sns.heatmap(correlation_matrix, annot=True)\n",
    "plt.show()"
   ]
  },
  {
   "cell_type": "code",
   "execution_count": null,
   "id": "25f5f69f-d0ad-4a09-95bb-4b906c333850",
   "metadata": {},
   "outputs": [],
   "source": [
    "df_corr_matrix = spark.createDataFrame(correlation_matrix, correlation_columns)\n",
    "# Show correlation between 'sport' and 'Label'\n",
    "df_corr_matrix.select('sport', 'Label').show()"
   ]
  },
  {
   "cell_type": "code",
   "execution_count": null,
   "id": "febb67ed-8688-485f-963c-4f7428eb2e23",
   "metadata": {},
   "outputs": [],
   "source": [
    "from pyspark.sql.functions import col\n",
    "from pyspark.ml.feature import VectorAssembler, StringIndexer\n",
    "from pyspark.ml.classification import RandomForestClassifier, DecisionTreeClassifier, NaiveBayes\n",
    "from pyspark.ml.evaluation import BinaryClassificationEvaluator, MulticlassClassificationEvaluator\n",
    "from pyspark.ml import Pipeline\n",
    "import seaborn as sns\n",
    "import matplotlib.pyplot as plt\n",
    "from sklearn.metrics import confusion_matrix, roc_curve, auc\n",
    "\n",
    "# Preparing Data for Machine Learning\n",
    "input_columns = [\"sport\", \"dsport\", \"dur\", \"sbytes\", \"dbytes\", \"sttl\", \"dttl\", \"sloss\", \"dloss\",\n",
    "        \"sload\", \"dload\", \"spkts\", \"dpkts\", \"swin\", \"dwin\", \"stcpb\", \"dtcpb\", \"smeansz\", \n",
    "        \"dmeansz\", \"trans_depth\", \"res_bdy_len\", \"sjit\", \"djit\", \"sintpkt\", \"dintpkt\",\n",
    "        \"tcprtt\", \"synack\", \"ackdat\", \"is_sm_ips_ports\", \"ct_state_ttl\", \"ct_flw_http_mthd\",\n",
    "        \"is_ftp_login\", \"ct_ftp_cmd\", \"ct_srv_src\", \"ct_srv_dst\", \"ct_dst_ltm\", \"ct_src_ltm\",\n",
    "        \"ct_src_dport_ltm\", \"ct_dst_sport_ltm\", \"ct_dst_src_ltm\", \"label\"]\n",
    "\n",
    "assembler = VectorAssembler(inputCols=input_columns, outputCol=\"features\")\n",
    "transformed_df = assembler.transform(df)"
   ]
  },
  {
   "cell_type": "code",
   "execution_count": null,
   "id": "f3e37603-2a06-48bc-a226-06d879c45ff9",
   "metadata": {},
   "outputs": [],
   "source": [
    "# Create a DataFrame for the model\n",
    "model_data_df = transformed_df.select(\"features\", \"Label\")"
   ]
  },
  {
   "cell_type": "code",
   "execution_count": null,
   "id": "842f1703-8a1b-4a07-80eb-bfd118c7b5e4",
   "metadata": {},
   "outputs": [],
   "source": [
    "# Splitting the data into training and test sets\n",
    "train_df, test_df = model_data_df.randomSplit([0.7, 0.3])"
   ]
  },
  {
   "cell_type": "code",
   "execution_count": null,
   "id": "0cbbfcb0-036d-4e9c-8f2a-b6768a05787a",
   "metadata": {},
   "outputs": [],
   "source": [
    "# Random Forest Classifier"
   ]
  },
  {
   "cell_type": "code",
   "execution_count": null,
   "id": "3b61b75a-92a3-49a3-9f20-03a35c8e617d",
   "metadata": {},
   "outputs": [],
   "source": [
    "# Train Random Forest Classifier\n",
    "rf_classifier = RandomForestClassifier(labelCol=\"Label\", numTrees=50)\n",
    "rf_model = rf_classifier.fit(train_df)\n",
    "rf_predictions = rf_model.transform(test_df)"
   ]
  },
  {
   "cell_type": "code",
   "execution_count": null,
   "id": "fdf05907-332e-465d-bba9-50a859d4c729",
   "metadata": {},
   "outputs": [],
   "source": [
    "# Evaluate accuracy and AUC\n",
    "rf_evaluator = BinaryClassificationEvaluator(labelCol=\"Label\")\n",
    "rf_accuracy = rf_evaluator.evaluate(rf_predictions)\n",
    "rf_auc = rf_evaluator.setMetricName(\"areaUnderROC\").evaluate(rf_predictions)\n",
    "print(f\"Random Forest Accuracy: {rf_accuracy}, AUC: {rf_auc}\")"
   ]
  },
  {
   "cell_type": "code",
   "execution_count": null,
   "id": "6b8829d6-51e6-4d30-b0fc-d92dcf43fea8",
   "metadata": {},
   "outputs": [],
   "source": [
    "# Feature importances\n",
    "print(\"Random Forest Feature Importances:\", rf_model.featureImportances)"
   ]
  },
  {
   "cell_type": "code",
   "execution_count": null,
   "id": "42a93b02-b4e5-4011-807d-8632166be9c7",
   "metadata": {},
   "outputs": [],
   "source": [
    "# Confusion Matrix for Random Forest\n",
    "y_true_rf = [row['label'] for row in rf_predictions.select(\"label\").collect()]\n",
    "y_pred_rf = [row['prediction'] for row in rf_predictions.select(\"prediction\").collect()]\n",
    "conf_matrix_rf = confusion_matrix(y_true_rf, y_pred_rf)\n",
    "plt.figure(figsize=(8, 8))\n",
    "sns.heatmap(conf_matrix_rf, annot=True, fmt='g')\n",
    "plt.title('Random Forest Confusion Matrix')\n",
    "plt.xlabel('Predicted')\n",
    "plt.ylabel('Actual')\n",
    "plt.show()"
   ]
  },
  {
   "cell_type": "code",
   "execution_count": null,
   "id": "4e00bc1c-3542-40cf-91a6-60c9079ee1c4",
   "metadata": {},
   "outputs": [],
   "source": [
    "from pyspark.ml.linalg import DenseVector\n",
    "\n",
    "y_true = [row['Label'] for row in rf_predictions.select(\"Label\").collect()]\n",
    "y_prob = [row['probability'] for row in rf_predictions.select(\"probability\").collect()]\n",
    "y_prob_positive = [prob[1] for prob in y_prob if isinstance(prob, DenseVector)]\n",
    "fpr, tpr, thresholds = roc_curve(y_true, y_prob_positive)\n",
    "roc_auc = auc(fpr, tpr)\n",
    "plt.figure()\n",
    "plt.plot(fpr, tpr, color='darkorange', lw=2, label=f'ROC curve (area = {roc_auc:.2f})')\n",
    "plt.plot([0, 1], [0, 1], color='navy', lw=2, linestyle='--')\n",
    "plt.xlabel('False Positive Rate')\n",
    "plt.ylabel('True Positive Rate')\n",
    "plt.title('Receiver Operating Characteristic')\n",
    "plt.legend(loc=\"lower right\")\n",
    "plt.show()"
   ]
  },
  {
   "cell_type": "code",
   "execution_count": null,
   "id": "e4567ad2-48d2-4372-b7c0-943bf0833758",
   "metadata": {},
   "outputs": [],
   "source": [
    "# Decision Tree Classifier for Multi-Class Classification\n",
    "indexer = StringIndexer(inputCol=\"attack_cat\", outputCol=\"attack_cat_index\")\n",
    "df_indexed = indexer.fit(df).transform(df)\n",
    "assembler = VectorAssembler(inputCols=input_columns, outputCol=\"features\")\n",
    "multi_model_data = assembler.transform(df_indexed).select(\"features\", \"attack_cat_index\")"
   ]
  },
  {
   "cell_type": "code",
   "execution_count": null,
   "id": "4b5285b3-e57a-404c-9ca7-f1de5c699df8",
   "metadata": {},
   "outputs": [],
   "source": [
    "# Splitting the data\n",
    "train_df, test_df = multi_model_data.randomSplit([0.7, 0.3])"
   ]
  },
  {
   "cell_type": "code",
   "execution_count": null,
   "id": "d5be39be-4c89-4118-9423-d352bf88c96b",
   "metadata": {},
   "outputs": [],
   "source": [
    "# Train multi-class Decision Tree Classifier\n",
    "dt_multi_classifier = DecisionTreeClassifier(labelCol=\"attack_cat_index\").fit(train_df)\n",
    "dt_predictions = dt_multi_classifier.transform(train_df)"
   ]
  },
  {
   "cell_type": "code",
   "execution_count": null,
   "id": "6fde0813-8f9a-4af9-bad0-0c3b75d44694",
   "metadata": {},
   "outputs": [],
   "source": [
    "# Evaluate multi-class classifier\n",
    "multi_evaluator = MulticlassClassificationEvaluator(labelCol=\"attack_cat_index\")\n",
    "dt_accuracy = multi_evaluator.setMetricName(\"accuracy\").evaluate(dt_predictions)\n",
    "dt_precision = multi_evaluator.setMetricName(\"weightedPrecision\").evaluate(dt_predictions)\n",
    "dt_recall = multi_evaluator.setMetricName(\"weightedRecall\").evaluate(dt_predictions)\n",
    "\n",
    "print(f\"Decision Tree Accuracy: {dt_accuracy}, Precision: {dt_precision}, Recall: {dt_recall}\")"
   ]
  },
  {
   "cell_type": "code",
   "execution_count": null,
   "id": "9c7c124f-7280-4060-869e-ae60d51955ec",
   "metadata": {},
   "outputs": [],
   "source": [
    "# Naive Bayes Classifier\n",
    "nb_classifier = NaiveBayes(labelCol=\"attack_cat_index\", featuresCol=\"features\")\n",
    "nb_pipeline = Pipeline(stages=[indexer, assembler, nb_classifier])\n",
    "nb_model = nb_pipeline.fit(train_df)\n",
    "nb_predictions = nb_model.transform(test_df)"
   ]
  },
  {
   "cell_type": "code",
   "execution_count": null,
   "id": "e68df9a1-4925-49c4-879d-936e4390c065",
   "metadata": {},
   "outputs": [],
   "source": [
    "# Evaluate Naive Bayes Model\n",
    "nb_evaluator = MulticlassClassificationEvaluator(labelCol=\"attack_cat_index\", predictionCol=\"prediction\")\n",
    "nb_accuracy = nb_evaluator.setMetricName(\"accuracy\").evaluate(nb_predictions)\n",
    "nb_precision = nb_evaluator.setMetricName(\"weightedPrecision\").evaluate(nb_predictions)\n",
    "nb_recall = nb_evaluator.setMetricName(\"weightedRecall\").evaluate(nb_predictions)\n",
    "print(f\"Naive Bayes Accuracy: {nb_accuracy}, Precision: {nb_precision}, Recall: {nb_recall}\")"
   ]
  },
  {
   "cell_type": "code",
   "execution_count": null,
   "id": "4aecdb80-c1b3-4091-a95c-7c3540b63c1a",
   "metadata": {},
   "outputs": [],
   "source": [
    "# Confusion Matrix for Naive Bayes\n",
    "y_true_nb = [row['attack_cat_index'] for row in nb_predictions.select(\"attack_cat_index\").collect()]\n",
    "y_pred_nb = [row['prediction'] for row in nb_predictions.select(\"prediction\").collect()]\n",
    "conf_matrix_nb = confusion_matrix(y_true_nb, y_pred_nb)\n",
    "plt.figure(figsize=(10, 10))\n",
    "sns.heatmap(conf_matrix_nb, annot=True, fmt='g')\n",
    "plt.title('Naive Bayes Confusion Matrix')\n",
    "plt.xlabel('Predicted Labels')\n",
    "plt.ylabel('True Labels')\n",
    "plt.show()"
   ]
  },
  {
   "cell_type": "code",
   "execution_count": null,
   "id": "d99cb8a1-f548-49f3-b607-49ceb36e6015",
   "metadata": {},
   "outputs": [],
   "source": [
    "# Clean up\n",
    "spark.stop()"
   ]
  }
 ],
 "metadata": {
  "kernelspec": {
   "display_name": "Python 3 (ipykernel)",
   "language": "python",
   "name": "python3"
  },
  "language_info": {
   "codemirror_mode": {
    "name": "ipython",
    "version": 3
   },
   "file_extension": ".py",
   "mimetype": "text/x-python",
   "name": "python",
   "nbconvert_exporter": "python",
   "pygments_lexer": "ipython3",
   "version": "3.9.0"
  }
 },
 "nbformat": 4,
 "nbformat_minor": 5
}
